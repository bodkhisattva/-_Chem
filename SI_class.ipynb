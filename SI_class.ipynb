{
 "cells": [
  {
   "cell_type": "code",
   "execution_count": 230,
   "id": "a1035e74-30b1-4b11-ad0d-e0601ab79793",
   "metadata": {},
   "outputs": [
    {
     "name": "stdout",
     "output_type": "stream",
     "text": [
      "Кластер 0: Accuracy=0.94719\n",
      "Кластер 1: Accuracy=0.96164\n",
      "Кластер 2: Accuracy=0.94231\n"
     ]
    }
   ],
   "source": [
    "cluster_metrics_forest_si = {}\n",
    "\n",
    "for c in np.unique(clusters):\n",
    "    X_cluster_si = X_new_si[clusters == c]\n",
    "    y_cluster_si = si_cl[clusters == c]\n",
    "    \n",
    "    model = RandomForestClassifier().fit(X_cluster_si, y_cluster_si)\n",
    "    y_pred_cluster_si = model.predict(X_cluster_si)\n",
    "\n",
    "    accuracy = accuracy_score(y_cluster_si, y_pred_cluster_si)\n",
    "\n",
    "    cluster_metrics_forest_si[c] = {\n",
    "        'Accuracy': accuracy      \n",
    "    }\n",
    "\n",
    "for cid, metrics in cluster_metrics_forest_si.items():\n",
    "    print(f\"Кластер {cid}: Accuracy={metrics['Accuracy']:.5f}\")"
   ]
  },
  {
   "cell_type": "markdown",
   "id": "d1b26ffb-7a50-448e-b5d4-173fed0af98c",
   "metadata": {},
   "source": [
    "В задачах на классификацию, где цель состоит в том, чтобы увидеть, превышает ли значение целевой переменной свою медиану, наблюдается одна и та же тенденция: кластеры 0 и 2 менее информативны, чем первый кластер, однако у всех трех показатели довольно высокие. Это свидетельствует о том, что первый кластер превышает медиану больше, чем нулевой и второй. Эта общая тенденция для данного класса соединений может быть успешно использована в проектировании лекарств."
   ]
  }
 ],
 "metadata": {
  "kernelspec": {
   "display_name": "Python 3 (ipykernel)",
   "language": "python",
   "name": "python3"
  },
  "language_info": {
   "codemirror_mode": {
    "name": "ipython",
    "version": 3
   },
   "file_extension": ".py",
   "mimetype": "text/x-python",
   "name": "python",
   "nbconvert_exporter": "python",
   "pygments_lexer": "ipython3",
   "version": "3.12.4"
  }
 },
 "nbformat": 4,
 "nbformat_minor": 5
}
