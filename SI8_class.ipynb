{
 "cells": [
  {
   "cell_type": "code",
   "execution_count": 233,
   "id": "6ebc895a-1d7e-4769-9894-25bb0677e2e9",
   "metadata": {},
   "outputs": [
    {
     "name": "stdout",
     "output_type": "stream",
     "text": [
      "Кластер 0: Accuracy=1.00000\n",
      "Кластер 1: Accuracy=1.00000\n",
      "Кластер 2: Accuracy=1.00000\n"
     ]
    }
   ],
   "source": [
    "cluster_metrics_forest_si8 = {}\n",
    "\n",
    "for c in np.unique(clusters):\n",
    "    X_cluster_si8 = X_new_si[clusters == c]\n",
    "    y_cluster_si8 = si_cl_8[clusters == c]\n",
    "    \n",
    "    model = RandomForestClassifier().fit(X_cluster_si8, y_cluster_si8)\n",
    "    y_pred_cluster_si8 = model.predict(X_cluster_si8)\n",
    "\n",
    "    accuracy = accuracy_score(y_cluster_si8, y_pred_cluster_si8)\n",
    "\n",
    "    cluster_metrics_forest_si8[c] = {\n",
    "        'Accuracy': accuracy      \n",
    "    }\n",
    "\n",
    "for cid, metrics in cluster_metrics_forest_si8.items():\n",
    "    print(f\"Кластер {cid}: Accuracy={metrics['Accuracy']:.5f}\")"
   ]
  },
  {
   "cell_type": "markdown",
   "id": "42caeb4e-c0b3-4c69-9b3b-fa509825a985",
   "metadata": {},
   "source": [
    "В задаче классификации SI > 8 accuracy достигает своего максимума. Это свидетельствует о том, что в каждом кластере переменная SI превышает данное значение. Если сравнивать показатели всех задач классификации, то можно сделать предположение, что именно первый кластер больше всего влияет на показатель SI."
   ]
  }
 ],
 "metadata": {
  "kernelspec": {
   "display_name": "Python 3 (ipykernel)",
   "language": "python",
   "name": "python3"
  },
  "language_info": {
   "codemirror_mode": {
    "name": "ipython",
    "version": 3
   },
   "file_extension": ".py",
   "mimetype": "text/x-python",
   "name": "python",
   "nbconvert_exporter": "python",
   "pygments_lexer": "ipython3",
   "version": "3.12.4"
  }
 },
 "nbformat": 4,
 "nbformat_minor": 5
}
