{
 "cells": [
  {
   "cell_type": "code",
   "execution_count": 104,
   "id": "5221ff91-9bba-421e-bf42-7699d2d07a02",
   "metadata": {},
   "outputs": [
    {
     "name": "stderr",
     "output_type": "stream",
     "text": [
      "C:\\Users\\dfu\\anaconda3\\Lib\\site-packages\\sklearn\\cluster\\_kmeans.py:1446: UserWarning: KMeans is known to have a memory leak on Windows with MKL, when there are less chunks than available threads. You can avoid it by setting the environment variable OMP_NUM_THREADS=3.\n",
      "  warnings.warn(\n"
     ]
    },
    {
     "name": "stdout",
     "output_type": "stream",
     "text": [
      "Кластер 0: MAE=0.263, MSE=0.142, R2=0.519\n",
      "Кластер 1: MAE=0.107, MSE=0.020, R2=0.913\n",
      "Кластер 2: MAE=0.067, MSE=0.031, R2=0.893\n"
     ]
    }
   ],
   "source": [
    "kmeans_si = KMeans(n_clusters=3, random_state=42)\n",
    "clusters_si = kmeans_si.fit_predict(X_new_si)\n",
    "\n",
    "cluster_metrics_si = {}\n",
    "\n",
    "for c in np.unique(clusters_si):\n",
    "    X_cluster_si = X_new_si[clusters == c]\n",
    "    y_cluster_si = Y_si[clusters == c]\n",
    "    \n",
    "    model = GradientBoostingRegressor().fit(X_cluster_si, y_cluster_si)\n",
    "    y_pred_cluster_si = model.predict(X_cluster_si)\n",
    "\n",
    "    mae = mean_absolute_error(y_cluster_si, y_pred_cluster_si)\n",
    "    mse = mean_squared_error(y_cluster_si, y_pred_cluster_si)\n",
    "    r2 = r2_score(y_cluster_si, y_pred_cluster_si)\n",
    "\n",
    "    cluster_metrics_si[c] = {\n",
    "        'MAE': mae,\n",
    "        'MSE': mse,\n",
    "        'R2': r2\n",
    "    }\n",
    "\n",
    "for cid, metrics in cluster_metrics_si.items():\n",
    "    print(f\"Кластер {cid}: MAE={metrics['MAE']:.3f}, MSE={metrics['MSE']:.3f}, R2={metrics['R2']:.3f}\")"
   ]
  },
  {
   "cell_type": "markdown",
   "id": "fdaf65b6-3a5c-420f-9bbc-93bcb795a05a",
   "metadata": {},
   "source": [
    "В задаче кластеризации SI лучше всего отрабатывают кластеры 1 и 2, как и в случае с CC50. В данном моменте между IC50, CC50 и SI - зависящей от них обеих - переменными прослеживается четкая связь в том, что первый и второй кластеры более важны для предсказания подходящего лекарства."
   ]
  }
 ],
 "metadata": {
  "kernelspec": {
   "display_name": "Python 3 (ipykernel)",
   "language": "python",
   "name": "python3"
  },
  "language_info": {
   "codemirror_mode": {
    "name": "ipython",
    "version": 3
   },
   "file_extension": ".py",
   "mimetype": "text/x-python",
   "name": "python",
   "nbconvert_exporter": "python",
   "pygments_lexer": "ipython3",
   "version": "3.12.4"
  }
 },
 "nbformat": 4,
 "nbformat_minor": 5
}
