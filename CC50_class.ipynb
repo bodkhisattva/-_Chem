{
 "cells": [
  {
   "cell_type": "code",
   "execution_count": 228,
   "id": "e7fc325c-2114-438b-a317-9203771b7ee3",
   "metadata": {},
   "outputs": [
    {
     "name": "stdout",
     "output_type": "stream",
     "text": [
      "Кластер 0: Accuracy=0.96700\n",
      "Кластер 1: Accuracy=0.97260\n",
      "Кластер 2: Accuracy=0.96154\n"
     ]
    }
   ],
   "source": [
    "cluster_metrics_forest_cc = {}\n",
    "\n",
    "for c in np.unique(clusters):\n",
    "    X_cluster_cc = X_new_ic[clusters == c]\n",
    "    y_cluster_cc = cc50_cl[clusters == c]\n",
    "    \n",
    "    model = RandomForestClassifier().fit(X_cluster_cc, y_cluster_cc)\n",
    "    y_pred_cluster_cc = model.predict(X_cluster_cc)\n",
    "\n",
    "    accuracy = accuracy_score(y_cluster_cc, y_pred_cluster_cc)\n",
    "\n",
    "    cluster_metrics_forest_cc[c] = {\n",
    "        'Accuracy': accuracy      \n",
    "    }\n",
    "\n",
    "for cid, metrics in cluster_metrics_forest_cc.items():\n",
    "    print(f\"Кластер {cid}: Accuracy={metrics['Accuracy']:.5f}\")"
   ]
  }
 ],
 "metadata": {
  "kernelspec": {
   "display_name": "Python 3 (ipykernel)",
   "language": "python",
   "name": "python3"
  },
  "language_info": {
   "codemirror_mode": {
    "name": "ipython",
    "version": 3
   },
   "file_extension": ".py",
   "mimetype": "text/x-python",
   "name": "python",
   "nbconvert_exporter": "python",
   "pygments_lexer": "ipython3",
   "version": "3.12.4"
  }
 },
 "nbformat": 4,
 "nbformat_minor": 5
}
