{
 "cells": [
  {
   "cell_type": "markdown",
   "id": "81eac836-0a68-48a5-91fd-523254df7c3b",
   "metadata": {},
   "source": [
    "Перейдем к задачам классификации."
   ]
  },
  {
   "cell_type": "code",
   "execution_count": 207,
   "id": "80accf88-36ca-4242-9766-effc522394fe",
   "metadata": {},
   "outputs": [
    {
     "name": "stdout",
     "output_type": "stream",
     "text": [
      "Accuracy: 0.625\n"
     ]
    }
   ],
   "source": [
    "from sklearn.metrics import accuracy_score, f1_score, precision_score, recall_score\n",
    "from sklearn.linear_model import LogisticRegression\n",
    "\n",
    "model_logreg = LogisticRegression()\n",
    "\n",
    "model_logreg.fit(X_train_class_ic, y_train_class_ic)\n",
    "pred_ic_class = model_logreg.predict(X_test_class_ic)\n",
    "\n",
    "accuracy_logreg = accuracy_score(y_test_class_ic, pred_ic_class)\n",
    "print(f'Accuracy: {accuracy_logreg}')"
   ]
  },
  {
   "cell_type": "code",
   "execution_count": 209,
   "id": "97c9ce42-8e04-445f-a230-71649eaf7e40",
   "metadata": {},
   "outputs": [
    {
     "name": "stdout",
     "output_type": "stream",
     "text": [
      "Accuracy: 0.625\n"
     ]
    }
   ],
   "source": [
    "from sklearn.neighbors import KNeighborsClassifier\n",
    "\n",
    "model_kneighb = KNeighborsClassifier()\n",
    "\n",
    "model_kneighb.fit(X_train_class_ic, y_train_class_ic)\n",
    "pred_ic_kneighb = model_kneighb.predict(X_test_class_ic)\n",
    "\n",
    "accuracy_kneighb = accuracy_score(y_test_class_ic, pred_ic_kneighb)\n",
    "print(f'Accuracy: {accuracy_kneighb}')"
   ]
  },
  {
   "cell_type": "code",
   "execution_count": 211,
   "id": "2d39c0d9-8ae0-4e4e-a243-62db3897078b",
   "metadata": {},
   "outputs": [
    {
     "name": "stdout",
     "output_type": "stream",
     "text": [
      "Accuracy: 0.6481481481481481\n"
     ]
    }
   ],
   "source": [
    "from sklearn.ensemble import RandomForestClassifier\n",
    "\n",
    "model_forest = RandomForestClassifier()\n",
    "\n",
    "model_forest.fit(X_train_class_ic, y_train_class_ic)\n",
    "pred_ic_forest = model_forest.predict(X_test_class_ic)\n",
    "\n",
    "accuracy_forest = accuracy_score(y_test_class_ic, pred_ic_forest)\n",
    "print(f'Accuracy: {accuracy_forest}')"
   ]
  },
  {
   "cell_type": "markdown",
   "id": "f4b22abe-fd32-4422-b660-626d0dd2be5d",
   "metadata": {},
   "source": [
    "Применение только алгоритмов обучения с учителем дало метрики чуть лучше, чем аналогичное при решении задач регрессии, однако текущие результаты все равно надо улучшать. Применим также кластеризацию."
   ]
  },
  {
   "cell_type": "code",
   "execution_count": 214,
   "id": "25ce365c-acb1-4fec-9438-3617726d426d",
   "metadata": {},
   "outputs": [
    {
     "name": "stdout",
     "output_type": "stream",
     "text": [
      "Кластер 0: Accuracy=0.75578\n",
      "Кластер 1: Accuracy=0.71781\n",
      "Кластер 2: Accuracy=0.82692\n"
     ]
    }
   ],
   "source": [
    "cluster_metrics_logreg = {}\n",
    "\n",
    "for c in np.unique(clusters):\n",
    "    X_cluster_ic = X_new_ic[clusters == c]\n",
    "    y_cluster_ic = ic50_cl[clusters == c]\n",
    "    \n",
    "    model = LogisticRegression().fit(X_cluster_ic, y_cluster_ic)\n",
    "    y_pred_cluster_ic = model.predict(X_cluster_ic)\n",
    "\n",
    "    accuracy = accuracy_score(y_cluster_ic, y_pred_cluster_ic)\n",
    "\n",
    "    cluster_metrics_logreg[c] = {\n",
    "        'Accuracy': accuracy      \n",
    "    }\n",
    "\n",
    "for cid, metrics in cluster_metrics_logreg.items():\n",
    "    print(f\"Кластер {cid}: Accuracy={metrics['Accuracy']:.5f}\")"
   ]
  },
  {
   "cell_type": "code",
   "execution_count": 216,
   "id": "9ff17dde-39c2-43ad-8d08-d3c24945c265",
   "metadata": {},
   "outputs": [
    {
     "name": "stdout",
     "output_type": "stream",
     "text": [
      "Кластер 0: Accuracy=0.77558\n",
      "Кластер 1: Accuracy=0.75342\n",
      "Кластер 2: Accuracy=0.80769\n"
     ]
    }
   ],
   "source": [
    "cluster_metrics_neigbs = {}\n",
    "\n",
    "for c in np.unique(clusters):\n",
    "    X_cluster_ic = X_new_ic[clusters == c]\n",
    "    y_cluster_ic = ic50_cl[clusters == c]\n",
    "    \n",
    "    model = KNeighborsClassifier().fit(X_cluster_ic, y_cluster_ic)\n",
    "    y_pred_cluster_ic = model.predict(X_cluster_ic)\n",
    "\n",
    "    accuracy = accuracy_score(y_cluster_ic, y_pred_cluster_ic)\n",
    "\n",
    "    cluster_metrics_neigbs[c] = {\n",
    "        'Accuracy': accuracy      \n",
    "    }\n",
    "\n",
    "for cid, metrics in cluster_metrics_neigbs.items():\n",
    "    print(f\"Кластер {cid}: Accuracy={metrics['Accuracy']:.5f}\")"
   ]
  },
  {
   "cell_type": "code",
   "execution_count": 225,
   "id": "8bab0c80-9c18-4761-ae7e-91bad93d9457",
   "metadata": {},
   "outputs": [
    {
     "name": "stdout",
     "output_type": "stream",
     "text": [
      "Кластер 0: Accuracy=0.92409\n",
      "Кластер 1: Accuracy=0.97260\n",
      "Кластер 2: Accuracy=0.94231\n"
     ]
    }
   ],
   "source": [
    "cluster_metrics_forest = {}\n",
    "\n",
    "for c in np.unique(clusters):\n",
    "    X_cluster_ic = X_new_ic[clusters == c]\n",
    "    y_cluster_ic = ic50_cl[clusters == c]\n",
    "    \n",
    "    model = RandomForestClassifier().fit(X_cluster_ic, y_cluster_ic)\n",
    "    y_pred_cluster_ic = model.predict(X_cluster_ic)\n",
    "\n",
    "    accuracy = accuracy_score(y_cluster_ic, y_pred_cluster_ic)\n",
    "\n",
    "    cluster_metrics_forest[c] = {\n",
    "        'Accuracy': accuracy      \n",
    "    }\n",
    "\n",
    "for cid, metrics in cluster_metrics_forest.items():\n",
    "    print(f\"Кластер {cid}: Accuracy={metrics['Accuracy']:.5f}\")"
   ]
  },
  {
   "cell_type": "markdown",
   "id": "49b7fdef-e5a6-413b-ac8f-9647da7c1d9f",
   "metadata": {},
   "source": [
    "Метрики стали значительно лучше. Лучше всего работает алгоритм случайного леса. Применим его для других задач классификации."
   ]
  }
 ],
 "metadata": {
  "kernelspec": {
   "display_name": "Python 3 (ipykernel)",
   "language": "python",
   "name": "python3"
  },
  "language_info": {
   "codemirror_mode": {
    "name": "ipython",
    "version": 3
   },
   "file_extension": ".py",
   "mimetype": "text/x-python",
   "name": "python",
   "nbconvert_exporter": "python",
   "pygments_lexer": "ipython3",
   "version": "3.12.4"
  }
 },
 "nbformat": 4,
 "nbformat_minor": 5
}
