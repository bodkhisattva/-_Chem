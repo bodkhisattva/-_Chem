{
 "cells": [
  {
   "cell_type": "code",
   "execution_count": 102,
   "id": "540ae80e-2c77-425c-9241-89ea1672ca76",
   "metadata": {},
   "outputs": [
    {
     "name": "stderr",
     "output_type": "stream",
     "text": [
      "C:\\Users\\dfu\\anaconda3\\Lib\\site-packages\\sklearn\\cluster\\_kmeans.py:1446: UserWarning: KMeans is known to have a memory leak on Windows with MKL, when there are less chunks than available threads. You can avoid it by setting the environment variable OMP_NUM_THREADS=3.\n",
      "  warnings.warn(\n"
     ]
    },
    {
     "name": "stdout",
     "output_type": "stream",
     "text": [
      "Кластер 0: MAE=0.266, MSE=0.157, R2=0.687\n",
      "Кластер 1: MAE=0.089, MSE=0.014, R2=0.964\n",
      "Кластер 2: MAE=0.040, MSE=0.012, R2=0.978\n"
     ]
    }
   ],
   "source": [
    "kmeans_cc = KMeans(n_clusters=3, random_state=42)\n",
    "clusters_cc = kmeans_cc.fit_predict(X_new_cc)\n",
    "\n",
    "cluster_metrics_cc = {}\n",
    "\n",
    "for c in np.unique(clusters_cc):\n",
    "    X_cluster_cc = X_new_cc[clusters == c]\n",
    "    y_cluster_cc = Y_cc[clusters == c]\n",
    "    \n",
    "    model = GradientBoostingRegressor().fit(X_cluster_cc, y_cluster_cc)\n",
    "    y_pred_cluster_cc = model.predict(X_cluster_cc)\n",
    "\n",
    "    mae = mean_absolute_error(y_cluster_cc, y_pred_cluster_cc)\n",
    "    mse = mean_squared_error(y_cluster_cc, y_pred_cluster_cc)\n",
    "    r2 = r2_score(y_cluster_cc, y_pred_cluster_cc)\n",
    "\n",
    "    cluster_metrics_cc[c] = {\n",
    "        'MAE': mae,\n",
    "        'MSE': mse,\n",
    "        'R2': r2\n",
    "    }\n",
    "\n",
    "for cid, metrics in cluster_metrics_cc.items():\n",
    "    print(f\"Кластер {cid}: MAE={metrics['MAE']:.3f}, MSE={metrics['MSE']:.3f}, R2={metrics['R2']:.3f}\")"
   ]
  },
  {
   "cell_type": "markdown",
   "id": "72ae729f-98cb-44d7-9050-565f5b852cab",
   "metadata": {},
   "source": [
    "В кластерах 1 и 2 алгоритм работает наиболее эффективно, значит, данные в этих кластеров более важные для прогнозирования эффективных химических соединений."
   ]
  }
 ],
 "metadata": {
  "kernelspec": {
   "display_name": "Python 3 (ipykernel)",
   "language": "python",
   "name": "python3"
  },
  "language_info": {
   "codemirror_mode": {
    "name": "ipython",
    "version": 3
   },
   "file_extension": ".py",
   "mimetype": "text/x-python",
   "name": "python",
   "nbconvert_exporter": "python",
   "pygments_lexer": "ipython3",
   "version": "3.12.4"
  }
 },
 "nbformat": 4,
 "nbformat_minor": 5
}
